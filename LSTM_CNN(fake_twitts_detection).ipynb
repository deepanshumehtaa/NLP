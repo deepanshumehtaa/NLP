{
  "nbformat": 4,
  "nbformat_minor": 0,
  "metadata": {
    "kernelspec": {
      "display_name": "Python 3",
      "language": "python",
      "name": "python3"
    },
    "language_info": {
      "codemirror_mode": {
        "name": "ipython",
        "version": 3
      },
      "file_extension": ".py",
      "mimetype": "text/x-python",
      "name": "python",
      "nbconvert_exporter": "python",
      "pygments_lexer": "ipython3",
      "version": "3.6.6"
    },
    "colab": {
      "name": "LSTM-CNN(fake twitts detection).ipynb",
      "provenance": [],
      "collapsed_sections": [],
      "include_colab_link": true
    }
  },
  "cells": [
    {
      "cell_type": "markdown",
      "metadata": {
        "id": "view-in-github",
        "colab_type": "text"
      },
      "source": [
        "<a href=\"https://colab.research.google.com/github/deepanshumehtaa/NLP/blob/master/LSTM_CNN(fake_twitts_detection).ipynb\" target=\"_parent\"><img src=\"https://colab.research.google.com/assets/colab-badge.svg\" alt=\"Open In Colab\"/></a>"
      ]
    },
    {
      "cell_type": "code",
      "metadata": {
        "id": "5OzpFKeLwBok",
        "colab_type": "code",
        "outputId": "a618d753-1cd5-4867-84ec-15163cf03d7b",
        "colab": {
          "base_uri": "https://localhost:8080/",
          "height": 297
        }
      },
      "source": [
        "import pandas as pd\n",
        "#test=pd.read_csv(\"politifact_final_tain.csv\")\n",
        "#del test['tweet_ids']\n",
        "#del test['news_url']\n",
        "#test.columns = ['text', 'label']\n",
        "\n",
        "df = pd.read_csv(\"https://raw.githubusercontent.com/deepanshumehtaa/NLP/master/twitter_fnews_train.csv\")\n",
        "df.head(8)\n",
        "\n"
      ],
      "execution_count": 0,
      "outputs": [
        {
          "output_type": "execute_result",
          "data": {
            "text/html": [
              "<div>\n",
              "<style scoped>\n",
              "    .dataframe tbody tr th:only-of-type {\n",
              "        vertical-align: middle;\n",
              "    }\n",
              "\n",
              "    .dataframe tbody tr th {\n",
              "        vertical-align: top;\n",
              "    }\n",
              "\n",
              "    .dataframe thead th {\n",
              "        text-align: right;\n",
              "    }\n",
              "</style>\n",
              "<table border=\"1\" class=\"dataframe\">\n",
              "  <thead>\n",
              "    <tr style=\"text-align: right;\">\n",
              "      <th></th>\n",
              "      <th>label</th>\n",
              "      <th>text</th>\n",
              "    </tr>\n",
              "  </thead>\n",
              "  <tbody>\n",
              "    <tr>\n",
              "      <th>0</th>\n",
              "      <td>FAKE</td>\n",
              "      <td>Both the state and federal governments make mo...</td>\n",
              "    </tr>\n",
              "    <tr>\n",
              "      <th>1</th>\n",
              "      <td>FAKE</td>\n",
              "      <td>Says state Senate President Stephen Sweeney ga...</td>\n",
              "    </tr>\n",
              "    <tr>\n",
              "      <th>2</th>\n",
              "      <td>FAKE</td>\n",
              "      <td>Says Scott Walkers plan to replace Obamacare i...</td>\n",
              "    </tr>\n",
              "    <tr>\n",
              "      <th>3</th>\n",
              "      <td>FAKE</td>\n",
              "      <td>Mitt Romney is worth at least a quarter billio...</td>\n",
              "    </tr>\n",
              "    <tr>\n",
              "      <th>4</th>\n",
              "      <td>FAKE</td>\n",
              "      <td>The Republican governor who stood up and cut s...</td>\n",
              "    </tr>\n",
              "    <tr>\n",
              "      <th>5</th>\n",
              "      <td>FAKE</td>\n",
              "      <td>Dan Branch once lobbied for the AFL-CIO.</td>\n",
              "    </tr>\n",
              "    <tr>\n",
              "      <th>6</th>\n",
              "      <td>FAKE</td>\n",
              "      <td>House Republicans pledged to introduce a bill ...</td>\n",
              "    </tr>\n",
              "    <tr>\n",
              "      <th>7</th>\n",
              "      <td>REAL</td>\n",
              "      <td>Says if you are on your bike in a crosswalk, a...</td>\n",
              "    </tr>\n",
              "  </tbody>\n",
              "</table>\n",
              "</div>"
            ],
            "text/plain": [
              "  label                                               text\n",
              "0  FAKE  Both the state and federal governments make mo...\n",
              "1  FAKE  Says state Senate President Stephen Sweeney ga...\n",
              "2  FAKE  Says Scott Walkers plan to replace Obamacare i...\n",
              "3  FAKE  Mitt Romney is worth at least a quarter billio...\n",
              "4  FAKE  The Republican governor who stood up and cut s...\n",
              "5  FAKE           Dan Branch once lobbied for the AFL-CIO.\n",
              "6  FAKE  House Republicans pledged to introduce a bill ...\n",
              "7  REAL  Says if you are on your bike in a crosswalk, a..."
            ]
          },
          "metadata": {
            "tags": []
          },
          "execution_count": 1
        }
      ]
    },
    {
      "cell_type": "code",
      "metadata": {
        "id": "vncC3GbywBox",
        "colab_type": "code",
        "outputId": "35f6b94b-7cff-4b94-d983-107a603d0326",
        "colab": {
          "base_uri": "https://localhost:8080/",
          "height": 272
        }
      },
      "source": [
        "import keras\n",
        "from tensorflow.python.client import device_lib\n",
        "\n",
        "print(device_lib.list_local_devices())\n",
        "import numpy as np\n",
        "import pandas as pd\n",
        "from collections import defaultdict\n",
        "import re\n",
        "\n",
        "\n",
        "import sys\n",
        "import os\n",
        "\n",
        "from keras.preprocessing.text import Tokenizer\n",
        "from keras.preprocessing.sequence import pad_sequences\n",
        "from keras.utils.np_utils import to_categorical\n",
        "\n",
        "from keras.layers import Embedding\n",
        "from keras.layers import Dense, Input, Flatten\n",
        "from keras.layers import Conv1D, MaxPooling1D, Embedding,  Dropout #, Merge\n",
        "from keras.models import Model\n",
        "\n",
        "MAX_SEQUENCE_LENGTH = 1000\n",
        "MAX_NB_WORDS = 200000\n",
        "EMBEDDING_DIM = 100\n",
        "VALIDATION_SPLIT = 0.2\n"
      ],
      "execution_count": 0,
      "outputs": [
        {
          "output_type": "stream",
          "text": [
            "Using TensorFlow backend.\n"
          ],
          "name": "stderr"
        },
        {
          "output_type": "stream",
          "text": [
            "[name: \"/device:CPU:0\"\n",
            "device_type: \"CPU\"\n",
            "memory_limit: 268435456\n",
            "locality {\n",
            "}\n",
            "incarnation: 8115444472391211346\n",
            ", name: \"/device:XLA_CPU:0\"\n",
            "device_type: \"XLA_CPU\"\n",
            "memory_limit: 17179869184\n",
            "locality {\n",
            "}\n",
            "incarnation: 7766049079370419834\n",
            "physical_device_desc: \"device: XLA_CPU device\"\n",
            "]\n"
          ],
          "name": "stdout"
        }
      ]
    },
    {
      "cell_type": "code",
      "metadata": {
        "id": "jsmQytzqK169",
        "colab_type": "code",
        "outputId": "d1a12a93-6436-4ec9-fd83-bc32391c093f",
        "colab": {
          "base_uri": "https://localhost:8080/",
          "height": 297
        }
      },
      "source": [
        "#dummy variable\n",
        "\n",
        "df = pd.get_dummies(df, columns=['label'], drop_first=True)\n",
        "df.head(8)"
      ],
      "execution_count": 0,
      "outputs": [
        {
          "output_type": "execute_result",
          "data": {
            "text/html": [
              "<div>\n",
              "<style scoped>\n",
              "    .dataframe tbody tr th:only-of-type {\n",
              "        vertical-align: middle;\n",
              "    }\n",
              "\n",
              "    .dataframe tbody tr th {\n",
              "        vertical-align: top;\n",
              "    }\n",
              "\n",
              "    .dataframe thead th {\n",
              "        text-align: right;\n",
              "    }\n",
              "</style>\n",
              "<table border=\"1\" class=\"dataframe\">\n",
              "  <thead>\n",
              "    <tr style=\"text-align: right;\">\n",
              "      <th></th>\n",
              "      <th>text</th>\n",
              "      <th>label_REAL</th>\n",
              "    </tr>\n",
              "  </thead>\n",
              "  <tbody>\n",
              "    <tr>\n",
              "      <th>0</th>\n",
              "      <td>Both the state and federal governments make mo...</td>\n",
              "      <td>0</td>\n",
              "    </tr>\n",
              "    <tr>\n",
              "      <th>1</th>\n",
              "      <td>Says state Senate President Stephen Sweeney ga...</td>\n",
              "      <td>0</td>\n",
              "    </tr>\n",
              "    <tr>\n",
              "      <th>2</th>\n",
              "      <td>Says Scott Walkers plan to replace Obamacare i...</td>\n",
              "      <td>0</td>\n",
              "    </tr>\n",
              "    <tr>\n",
              "      <th>3</th>\n",
              "      <td>Mitt Romney is worth at least a quarter billio...</td>\n",
              "      <td>0</td>\n",
              "    </tr>\n",
              "    <tr>\n",
              "      <th>4</th>\n",
              "      <td>The Republican governor who stood up and cut s...</td>\n",
              "      <td>0</td>\n",
              "    </tr>\n",
              "    <tr>\n",
              "      <th>5</th>\n",
              "      <td>Dan Branch once lobbied for the AFL-CIO.</td>\n",
              "      <td>0</td>\n",
              "    </tr>\n",
              "    <tr>\n",
              "      <th>6</th>\n",
              "      <td>House Republicans pledged to introduce a bill ...</td>\n",
              "      <td>0</td>\n",
              "    </tr>\n",
              "    <tr>\n",
              "      <th>7</th>\n",
              "      <td>Says if you are on your bike in a crosswalk, a...</td>\n",
              "      <td>1</td>\n",
              "    </tr>\n",
              "  </tbody>\n",
              "</table>\n",
              "</div>"
            ],
            "text/plain": [
              "                                                text  label_REAL\n",
              "0  Both the state and federal governments make mo...           0\n",
              "1  Says state Senate President Stephen Sweeney ga...           0\n",
              "2  Says Scott Walkers plan to replace Obamacare i...           0\n",
              "3  Mitt Romney is worth at least a quarter billio...           0\n",
              "4  The Republican governor who stood up and cut s...           0\n",
              "5           Dan Branch once lobbied for the AFL-CIO.           0\n",
              "6  House Republicans pledged to introduce a bill ...           0\n",
              "7  Says if you are on your bike in a crosswalk, a...           1"
            ]
          },
          "metadata": {
            "tags": []
          },
          "execution_count": 4
        }
      ]
    },
    {
      "cell_type": "code",
      "metadata": {
        "id": "BGbxDWF9wBo3",
        "colab_type": "code",
        "colab": {}
      },
      "source": [
        "def clean_str(string):\n",
        "    \"\"\"\n",
        "    Cleaning of dataset\n",
        "    \"\"\"\n",
        "    string = re.sub(r\"\\\\\", \"\", string)    \n",
        "    string = re.sub(r\"\\'\", \"\", string)    \n",
        "    string = re.sub(r\"\\\"\", \"\", string)    \n",
        "    return string.strip().lower()\n"
      ],
      "execution_count": 0,
      "outputs": []
    },
    {
      "cell_type": "code",
      "metadata": {
        "id": "cRq4IUT1wBpI",
        "colab_type": "code",
        "colab": {}
      },
      "source": [
        "# Input Data preprocessing\n",
        "data_train =df\n",
        "#print(data_train.columns)\n",
        "#print('What the raw input data looks like:')\n",
        "#print(data_train[0:5])\n",
        "texts = []\n",
        "labels = []\n",
        "\n",
        "for i in range(data_train.text.shape[0]):\n",
        "    #text1 = data_train.title[i]\n",
        "    text2 = data_train.text[i]\n",
        "    text = str(text2)\n",
        "    texts.append(text)\n",
        "    labels.append(data_train.label_REAL[i])\n",
        "    \n",
        "tokenizer = Tokenizer(num_words=MAX_NB_WORDS)\n",
        "tokenizer.fit_on_texts(texts)\n",
        "sequences = tokenizer.texts_to_sequences(texts)\n",
        "\n",
        "word_index = tokenizer.word_index\n",
        "#print('Found %s unique tokens.' % len(word_index))"
      ],
      "execution_count": 0,
      "outputs": []
    },
    {
      "cell_type": "code",
      "metadata": {
        "id": "V5D_4HaSwBpO",
        "colab_type": "code",
        "outputId": "ef4e66c7-e035-4a6f-d7dc-8550325ef183",
        "colab": {
          "base_uri": "https://localhost:8080/",
          "height": 51
        }
      },
      "source": [
        "# Pad input sequences\n",
        "data = pad_sequences(sequences, maxlen=MAX_SEQUENCE_LENGTH)\n",
        "labels = to_categorical(np.asarray(labels),num_classes = 2)\n",
        "print('Shape of data tensor:', data.shape)\n",
        "print('Shape of label tensor:', labels.shape)"
      ],
      "execution_count": 0,
      "outputs": [
        {
          "output_type": "stream",
          "text": [
            "Shape of data tensor: (10233, 1000)\n",
            "Shape of label tensor: (10233, 2)\n"
          ],
          "name": "stdout"
        }
      ]
    },
    {
      "cell_type": "code",
      "metadata": {
        "id": "ocrlur81wBpT",
        "colab_type": "code",
        "outputId": "17c87a97-7bf6-4dcc-d9e9-085754e621fd",
        "colab": {
          "base_uri": "https://localhost:8080/",
          "height": 102
        }
      },
      "source": [
        "# Train test validation Split\n",
        "from sklearn.model_selection import train_test_split\n",
        "\n",
        "indices = np.arange(data.shape[0])\n",
        "np.random.shuffle(indices)\n",
        "data = data[indices]\n",
        "labels = labels[indices]\n",
        "x_train, x_test, y_train, y_test = train_test_split( data, labels, test_size=0.20, random_state=42)\n",
        "x_test, x_val, y_test, y_val = train_test_split( x_test, y_test, test_size=0.50, random_state=42)\n",
        "print('Size of train, validation, test:', len(y_train), len(y_val), len(y_test))\n",
        "\n",
        "print('real & fake news in train,valt,test:')\n",
        "print(y_train.sum(axis=0))\n",
        "print(y_val.sum(axis=0))\n",
        "print(y_test.sum(axis=0))"
      ],
      "execution_count": 0,
      "outputs": [
        {
          "output_type": "stream",
          "text": [
            "Size of train, validation, test: 8186 1024 1023\n",
            "real & fake news in train,valt,test:\n",
            "[5351. 2835.]\n",
            "[667. 357.]\n",
            "[644. 379.]\n"
          ],
          "name": "stdout"
        }
      ]
    },
    {
      "cell_type": "code",
      "metadata": {
        "id": "gtG7aKKrwBpe",
        "colab_type": "code",
        "colab": {}
      },
      "source": [
        "\n",
        "from keras.models import Sequential\n",
        "from keras.layers.convolutional import Conv3D\n",
        "from keras.layers.convolutional_recurrent import ConvLSTM2D\n",
        "from keras.layers.normalization import BatchNormalization\n",
        "from matplotlib import pyplot as plt\n",
        "from keras.layers import Dense, Embedding, LSTM, GRU\n",
        "\n",
        "%matplotlib inline"
      ],
      "execution_count": 0,
      "outputs": []
    },
    {
      "cell_type": "code",
      "metadata": {
        "id": "WiRdexOYM0Ta",
        "colab_type": "code",
        "outputId": "211355d0-997d-4d65-be7a-6ab3a3b7c3a5",
        "colab": {
          "base_uri": "https://localhost:8080/",
          "height": 442
        }
      },
      "source": [
        "# Downloading glove \n",
        "# Global Vector or GloVe is an unsupervised learning algorithm for obtaining vector representations for words\n",
        "\n",
        "!wget http://nlp.stanford.edu/data/glove.6B.zip\n",
        "!unzip glove*.zip"
      ],
      "execution_count": 0,
      "outputs": [
        {
          "output_type": "stream",
          "text": [
            "--2020-04-17 12:54:03--  http://nlp.stanford.edu/data/glove.6B.zip\n",
            "Resolving nlp.stanford.edu (nlp.stanford.edu)... 171.64.67.140\n",
            "Connecting to nlp.stanford.edu (nlp.stanford.edu)|171.64.67.140|:80... connected.\n",
            "HTTP request sent, awaiting response... 302 Found\n",
            "Location: https://nlp.stanford.edu/data/glove.6B.zip [following]\n",
            "--2020-04-17 12:54:04--  https://nlp.stanford.edu/data/glove.6B.zip\n",
            "Connecting to nlp.stanford.edu (nlp.stanford.edu)|171.64.67.140|:443... connected.\n",
            "HTTP request sent, awaiting response... 301 Moved Permanently\n",
            "Location: http://downloads.cs.stanford.edu/nlp/data/glove.6B.zip [following]\n",
            "--2020-04-17 12:54:04--  http://downloads.cs.stanford.edu/nlp/data/glove.6B.zip\n",
            "Resolving downloads.cs.stanford.edu (downloads.cs.stanford.edu)... 171.64.64.22\n",
            "Connecting to downloads.cs.stanford.edu (downloads.cs.stanford.edu)|171.64.64.22|:80... connected.\n",
            "HTTP request sent, awaiting response... 200 OK\n",
            "Length: 862182613 (822M) [application/zip]\n",
            "Saving to: ‘glove.6B.zip’\n",
            "\n",
            "glove.6B.zip        100%[===================>] 822.24M  2.17MB/s    in 6m 27s  \n",
            "\n",
            "2020-04-17 13:00:31 (2.12 MB/s) - ‘glove.6B.zip’ saved [862182613/862182613]\n",
            "\n",
            "Archive:  glove.6B.zip\n",
            "  inflating: glove.6B.50d.txt        \n",
            "  inflating: glove.6B.100d.txt       \n",
            "  inflating: glove.6B.200d.txt       \n",
            "  inflating: glove.6B.300d.txt       \n"
          ],
          "name": "stdout"
        }
      ]
    },
    {
      "cell_type": "code",
      "metadata": {
        "id": "SbQy4lhvwBpl",
        "colab_type": "code",
        "outputId": "8be80a1e-1afd-4882-c9bd-e2335b28f8d0",
        "colab": {
          "base_uri": "https://localhost:8080/",
          "height": 34
        }
      },
      "source": [
        "#Using Pre-trained word embeddings\n",
        "GLOVE_DIR = \"data\" \n",
        "embeddings_index = {}\n",
        "f = open( 'glove.6B.100d.txt', encoding=\"utf8\")\n",
        "for line in f:\n",
        "    values = line.split()\n",
        "    #print(values[1:])\n",
        "    word = values[0]\n",
        "    coefs = np.asarray(values[1:], dtype='float32')\n",
        "    embeddings_index[word] = coefs\n",
        "f.close()\n",
        "\n",
        "print('Total %s word vectors in Glove.' % len(embeddings_index))\n",
        "\n",
        "embedding_matrix = np.random.random((len(word_index) + 1, EMBEDDING_DIM))\n",
        "for word, i in word_index.items():\n",
        "    embedding_vector = embeddings_index.get(word)\n",
        "    if embedding_vector is not None:\n",
        "        # words not found in embedding index will be all-zeros.\n",
        "        embedding_matrix[i] = embedding_vector\n",
        "        \n",
        "embedding_layer = Embedding(len(word_index) + 1,\n",
        "                            EMBEDDING_DIM,\n",
        "                            weights=[embedding_matrix],\n",
        "                            input_length=MAX_SEQUENCE_LENGTH)"
      ],
      "execution_count": 0,
      "outputs": [
        {
          "output_type": "stream",
          "text": [
            "Total 400000 word vectors in Glove.\n"
          ],
          "name": "stdout"
        }
      ]
    },
    {
      "cell_type": "code",
      "metadata": {
        "id": "efAoy4kuwBpr",
        "colab_type": "code",
        "outputId": "0b668f0b-324c-43c1-f5f3-214ac2c0215a",
        "colab": {}
      },
      "source": [
        "embedding_vecor_length = 32\n",
        "modell = Sequential()\n",
        "\n",
        "modell.add(embedding_layer)\n",
        "modell.add(Dropout(0.2))\n",
        "modell.add(Conv1D(filters=32, kernel_size=5, padding='same', activation='relu'))\n",
        "modell.add(MaxPooling1D(pool_size=2))\n",
        "modell.add(Conv1D(filters=64, kernel_size=3, padding='same', activation='relu'))\n",
        "modell.add(MaxPooling1D(pool_size=2))\n",
        "modell.add(LSTM(100, dropout=0.2, recurrent_dropout=0.2))\n",
        "modell.add(BatchNormalization())\n",
        "modell.add(Dense(256, activation='relu'))\n",
        "modell.add(Dense(128, activation='relu'))\n",
        "modell.add(Dense(64, activation='relu'))\n",
        "modell.add(Dense(2, activation='softmax'))\n",
        "\n",
        "modell.compile(loss='binary_crossentropy', optimizer='adam', metrics=['accuracy'])\n",
        "\n",
        "print(modell.summary())\n",
        "modell.fit(x_train, y_train, epochs=10, batch_size=64)\n",
        "\n",
        "modell.save('lstm.h5')\n"
      ],
      "execution_count": 0,
      "outputs": [
        {
          "output_type": "stream",
          "text": [
            "WARNING:tensorflow:From D:\\ProgramFiles\\Anaconda3\\lib\\site-packages\\keras\\backend\\tensorflow_backend.py:1044: calling reduce_sum (from tensorflow.python.ops.math_ops) with keep_dims is deprecated and will be removed in a future version.\n",
            "Instructions for updating:\n",
            "keep_dims is deprecated, use keepdims instead\n",
            "WARNING:tensorflow:From D:\\ProgramFiles\\Anaconda3\\lib\\site-packages\\keras\\backend\\tensorflow_backend.py:1123: calling reduce_mean (from tensorflow.python.ops.math_ops) with keep_dims is deprecated and will be removed in a future version.\n",
            "Instructions for updating:\n",
            "keep_dims is deprecated, use keepdims instead\n",
            "_________________________________________________________________\n",
            "Layer (type)                 Output Shape              Param #   \n",
            "=================================================================\n",
            "embedding_1 (Embedding)      (None, 1000, 100)         316000    \n",
            "_________________________________________________________________\n",
            "dropout_1 (Dropout)          (None, 1000, 100)         0         \n",
            "_________________________________________________________________\n",
            "conv1d_1 (Conv1D)            (None, 1000, 32)          16032     \n",
            "_________________________________________________________________\n",
            "max_pooling1d_1 (MaxPooling1 (None, 500, 32)           0         \n",
            "_________________________________________________________________\n",
            "conv1d_2 (Conv1D)            (None, 500, 64)           6208      \n",
            "_________________________________________________________________\n",
            "max_pooling1d_2 (MaxPooling1 (None, 250, 64)           0         \n",
            "_________________________________________________________________\n",
            "lstm_1 (LSTM)                (None, 100)               66000     \n",
            "_________________________________________________________________\n",
            "batch_normalization_1 (Batch (None, 100)               400       \n",
            "_________________________________________________________________\n",
            "dense_1 (Dense)              (None, 256)               25856     \n",
            "_________________________________________________________________\n",
            "dense_2 (Dense)              (None, 128)               32896     \n",
            "_________________________________________________________________\n",
            "dense_3 (Dense)              (None, 64)                8256      \n",
            "_________________________________________________________________\n",
            "dense_4 (Dense)              (None, 2)                 130       \n",
            "=================================================================\n",
            "Total params: 471,778.0\n",
            "Trainable params: 471,578.0\n",
            "Non-trainable params: 200.0\n",
            "_________________________________________________________________\n",
            "None\n",
            "Epoch 1/10\n",
            "684/684 [==============================] - 28s - loss: 0.6370 - acc: 0.6564    \n",
            "Epoch 2/10\n",
            "684/684 [==============================] - 21s - loss: 0.4887 - acc: 0.7982    \n",
            "Epoch 3/10\n",
            "684/684 [==============================] - 21s - loss: 0.4056 - acc: 0.8231    \n",
            "Epoch 4/10\n",
            "684/684 [==============================] - 22s - loss: 0.3356 - acc: 0.8655    \n",
            "Epoch 5/10\n",
            "684/684 [==============================] - 21s - loss: 0.2638 - acc: 0.9020    \n",
            "Epoch 6/10\n",
            "684/684 [==============================] - 21s - loss: 0.2042 - acc: 0.9211    \n",
            "Epoch 7/10\n",
            "684/684 [==============================] - 21s - loss: 0.1675 - acc: 0.9401    \n",
            "Epoch 8/10\n",
            "684/684 [==============================] - 21s - loss: 0.1604 - acc: 0.9430    \n",
            "Epoch 9/10\n",
            "684/684 [==============================] - 21s - loss: 0.1350 - acc: 0.9430    \n",
            "Epoch 10/10\n",
            "684/684 [==============================] - 21s - loss: 0.0900 - acc: 0.9605    \n"
          ],
          "name": "stdout"
        }
      ]
    },
    {
      "cell_type": "code",
      "metadata": {
        "id": "KNVz82tvwBpx",
        "colab_type": "code",
        "outputId": "98556ab8-a866-407a-a697-bb08eb942f18",
        "colab": {}
      },
      "source": [
        "embedding_vecor_length = 32\n",
        "modelg = Sequential()\n",
        "modelg.add(embedding_layer)\n",
        "modelg.add(GRU(100, dropout=0.2, recurrent_dropout=0.2))\n",
        "###\n",
        "modelg.add(BatchNormalization())\n",
        "###\n",
        "modelg.add(Dense(2, activation='softmax'))\n",
        "modelg.compile(loss='binary_crossentropy', optimizer='adam', metrics=['accuracy'])\n",
        "print(modelg.summary())\n",
        "modelg.fit(x_train, y_train, epochs=2, batch_size=64)\n",
        "modelg.save('gru.h5')"
      ],
      "execution_count": 0,
      "outputs": [
        {
          "output_type": "stream",
          "text": [
            "_________________________________________________________________\n",
            "Layer (type)                 Output Shape              Param #   \n",
            "=================================================================\n",
            "embedding_1 (Embedding)      (None, 1000, 100)         316000    \n",
            "_________________________________________________________________\n",
            "gru_1 (GRU)                  (None, 100)               60300     \n",
            "_________________________________________________________________\n",
            "batch_normalization_2 (Batch (None, 100)               400       \n",
            "_________________________________________________________________\n",
            "dense_5 (Dense)              (None, 2)                 202       \n",
            "=================================================================\n",
            "Total params: 376,902.0\n",
            "Trainable params: 376,702\n",
            "Non-trainable params: 200.0\n",
            "_________________________________________________________________\n",
            "None\n",
            "Epoch 1/2\n",
            "684/684 [==============================] - 19s - loss: 0.7805 - acc: 0.6330    \n",
            "Epoch 2/2\n",
            "684/684 [==============================] - 32s - loss: 0.4760 - acc: 0.7792    \n"
          ],
          "name": "stdout"
        }
      ]
    },
    {
      "cell_type": "code",
      "metadata": {
        "id": "OryFcoZnwBp5",
        "colab_type": "code",
        "colab": {}
      },
      "source": [
        ""
      ],
      "execution_count": 0,
      "outputs": []
    },
    {
      "cell_type": "code",
      "metadata": {
        "id": "Vv2HmolnwBqF",
        "colab_type": "code",
        "outputId": "9cd7fbf6-79c4-4329-fbde-1dc7ea98e8df",
        "colab": {}
      },
      "source": [
        "# Test model 1\n",
        "import matplotlib.pyplot as plt\n",
        "import seaborn as sns\n",
        "test_preds = modell.predict(x_test)\n",
        "test_preds = np.round(test_preds)\n",
        "correct_predictions = float(sum(test_preds == y_test)[0])\n",
        "print(\"Correct predictions:\", correct_predictions)\n",
        "print(\"Total number of test examples:\", len(y_test))\n",
        "print(\"Accuracy of model1: \", correct_predictions/float(len(y_test)))\n",
        "\n",
        "# Creating the Confusion Matrix\n",
        "from sklearn.metrics import confusion_matrix\n",
        "x_pred = modell.predict(x_test)\n",
        "x_pred = np.round(x_pred)\n",
        "x_pred = x_pred.argmax(1)\n",
        "y_test_s = y_test.argmax(1)\n",
        "cm = confusion_matrix(y_test_s, x_pred)\n",
        "# plt.matshow(cm, cmap=plt.cm.binary, interpolation='nearest')\n",
        "# plt.title('Confusion matrix - model1')\n",
        "# plt.colorbar()\n",
        "# plt.ylabel('expected label')\n",
        "# plt.xlabel('predicted label')\n",
        "# plt.show()\n",
        "sns.set(font_scale=1.4)#for label size\n",
        "sns.heatmap(cm,annot=True,annot_kws={\"size\": 16},fmt='1f')# font size\n"
      ],
      "execution_count": 0,
      "outputs": [
        {
          "output_type": "stream",
          "text": [
            "Correct predictions: 69.0\n",
            "Total number of test examples: 85\n",
            "Accuracy of model1:  0.8117647058823529\n"
          ],
          "name": "stdout"
        },
        {
          "output_type": "execute_result",
          "data": {
            "text/plain": [
              "<matplotlib.axes._subplots.AxesSubplot at 0x1d202a27358>"
            ]
          },
          "metadata": {
            "tags": []
          },
          "execution_count": 11
        },
        {
          "output_type": "display_data",
          "data": {
            "image/png": "[encoded data removed]",
            "text/plain": [
              "<Figure size 432x288 with 2 Axes>"
            ]
          },
          "metadata": {
            "tags": []
          }
        }
      ]
    },
    {
      "cell_type": "code",
      "metadata": {
        "id": "zZ_X7NmVwBqK",
        "colab_type": "code",
        "outputId": "9ebefb0d-f816-4088-bc5a-9deeaabd3724",
        "colab": {}
      },
      "source": [
        "# Test model 2\n",
        "import matplotlib.pyplot as plt\n",
        "import seaborn as sns\n",
        "test_preds = modelg.predict(x_test)\n",
        "test_preds = np.round(test_preds)\n",
        "correct_predictions = float(sum(test_preds == y_test)[0])\n",
        "print(\"Correct predictions:\", correct_predictions)\n",
        "print(\"Total number of test examples:\", len(y_test))\n",
        "print(\"Accuracy of model1: \", correct_predictions/float(len(y_test)))\n",
        "\n",
        "# Creating the Confusion Matrix\n",
        "from sklearn.metrics import confusion_matrix\n",
        "x_pred = modell.predict(x_test)\n",
        "x_pred = np.round(x_pred)\n",
        "x_pred = x_pred.argmax(1)\n",
        "y_test_s = y_test.argmax(1)\n",
        "cm = confusion_matrix(y_test_s, x_pred)\n",
        "# plt.matshow(cm, cmap=plt.cm.binary, interpolation='nearest')\n",
        "# plt.title('Confusion matrix - model1')\n",
        "# plt.colorbar()\n",
        "# plt.ylabel('expected label')\n",
        "# plt.xlabel('predicted label')\n",
        "# plt.show()\n",
        "sns.set(font_scale=1.4)#for label size\n",
        "sns.heatmap(cm,annot=True,annot_kws={\"size\": 16},fmt='f')# font size\n"
      ],
      "execution_count": 0,
      "outputs": [
        {
          "output_type": "stream",
          "text": [
            "Correct predictions: 68.0\n",
            "Total number of test examples: 85\n",
            "Accuracy of model1:  0.8\n"
          ],
          "name": "stdout"
        },
        {
          "output_type": "error",
          "ename": "NameError",
          "evalue": "name 'model' is not defined",
          "traceback": [
            "\u001b[1;31m---------------------------------------------------------------------------\u001b[0m",
            "\u001b[1;31mNameError\u001b[0m                                 Traceback (most recent call last)",
            "\u001b[1;32m<ipython-input-12-cdaae7bb3463>\u001b[0m in \u001b[0;36m<module>\u001b[1;34m\u001b[0m\n\u001b[0;32m     11\u001b[0m \u001b[1;31m# Creating the Confusion Matrix\u001b[0m\u001b[1;33m\u001b[0m\u001b[1;33m\u001b[0m\u001b[0m\n\u001b[0;32m     12\u001b[0m \u001b[1;32mfrom\u001b[0m \u001b[0msklearn\u001b[0m\u001b[1;33m.\u001b[0m\u001b[0mmetrics\u001b[0m \u001b[1;32mimport\u001b[0m \u001b[0mconfusion_matrix\u001b[0m\u001b[1;33m\u001b[0m\u001b[0m\n\u001b[1;32m---> 13\u001b[1;33m \u001b[0mx_pred\u001b[0m \u001b[1;33m=\u001b[0m \u001b[0mmodel\u001b[0m\u001b[1;33m.\u001b[0m\u001b[0mpredict\u001b[0m\u001b[1;33m(\u001b[0m\u001b[0mx_test\u001b[0m\u001b[1;33m)\u001b[0m\u001b[1;33m\u001b[0m\u001b[0m\n\u001b[0m\u001b[0;32m     14\u001b[0m \u001b[0mx_pred\u001b[0m \u001b[1;33m=\u001b[0m \u001b[0mnp\u001b[0m\u001b[1;33m.\u001b[0m\u001b[0mround\u001b[0m\u001b[1;33m(\u001b[0m\u001b[0mx_pred\u001b[0m\u001b[1;33m)\u001b[0m\u001b[1;33m\u001b[0m\u001b[0m\n\u001b[0;32m     15\u001b[0m \u001b[0mx_pred\u001b[0m \u001b[1;33m=\u001b[0m \u001b[0mx_pred\u001b[0m\u001b[1;33m.\u001b[0m\u001b[0margmax\u001b[0m\u001b[1;33m(\u001b[0m\u001b[1;36m1\u001b[0m\u001b[1;33m)\u001b[0m\u001b[1;33m\u001b[0m\u001b[0m\n",
            "\u001b[1;31mNameError\u001b[0m: name 'model' is not defined"
          ]
        }
      ]
    },
    {
      "cell_type": "code",
      "metadata": {
        "id": "eiNka5DBwBqR",
        "colab_type": "code",
        "colab": {}
      },
      "source": [
        ""
      ],
      "execution_count": 0,
      "outputs": []
    }
  ]
}